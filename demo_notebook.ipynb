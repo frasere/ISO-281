{
 "cells": [
  {
   "cell_type": "markdown",
   "metadata": {},
   "source": [
    "### ISO 281 Bearing Life Calculation Example\n",
    "___"
   ]
  },
  {
   "cell_type": "markdown",
   "metadata": {},
   "source": [
    "Calculate L10 life (rolling contact fatigue) using ISO 281 method - Fatigue Life estimation"
   ]
  },
  {
   "cell_type": "markdown",
   "metadata": {},
   "source": [
    "#### Standard Libraries"
   ]
  },
  {
   "cell_type": "code",
   "execution_count": 36,
   "metadata": {},
   "outputs": [],
   "source": [
    "import numpy as np\n",
    "import pandas as pd\n",
    "import matplotlib.pyplot as plt\n",
    "import math\n",
    "import glob\n",
    "import os\n",
    "import scipy.stats as ss\n",
    "pd.options.mode.chained_assignment = None   # off with setwithcopy warning\n",
    "plt.rcParams[\"font.family\"] = \"Times New Roman\" # Matplotlib font"
   ]
  },
  {
   "cell_type": "markdown",
   "metadata": {},
   "source": [
    "#### Classes module"
   ]
  },
  {
   "cell_type": "code",
   "execution_count": 37,
   "metadata": {},
   "outputs": [],
   "source": [
    "import classes_funcs as cf"
   ]
  },
  {
   "cell_type": "markdown",
   "metadata": {},
   "source": [
    "___"
   ]
  },
  {
   "cell_type": "markdown",
   "metadata": {},
   "source": [
    "#### Program Run"
   ]
  },
  {
   "cell_type": "markdown",
   "metadata": {},
   "source": [
    "##### Choose file locations for loading data and column headers"
   ]
  },
  {
   "cell_type": "code",
   "execution_count": 38,
   "metadata": {},
   "outputs": [],
   "source": [
    "file_location_fld = r'C:\\Users\\FREWIN\\OneDrive - DNV GL\\Atlantis\\Runs\\Damage endurance\\Excel files\\Flood' \n",
    "file_location_ebb = r'C:\\Users\\FREWIN\\OneDrive - DNV GL\\Atlantis\\Runs\\Damage endurance\\Excel files\\Ebb' \n",
    "cols = 'Time','PS deg','Fxy','Fz','My'"
   ]
  },
  {
   "cell_type": "markdown",
   "metadata": {},
   "source": [
    "##### Bearing design parameters"
   ]
  },
  {
   "cell_type": "code",
   "execution_count": 39,
   "metadata": {},
   "outputs": [],
   "source": [
    "brg_design_parameter_desc = pd.DataFrame({'Parameter':['i','z','dw','alpha','dp','Pu','kind'],\n",
    "                                          'Unit':['-','-','mm','degrees','mm','N','-'],'Description':['Number of rows','Number of elements in a row','Individual brg diameter',\n",
    "                                                                                       'Contact angle','Pitch diameter','Fatigue limit','Type']})"
   ]
  },
  {
   "cell_type": "code",
   "execution_count": 40,
   "metadata": {},
   "outputs": [
    {
     "data": {
      "text/html": [
       "<div>\n",
       "<style scoped>\n",
       "    .dataframe tbody tr th:only-of-type {\n",
       "        vertical-align: middle;\n",
       "    }\n",
       "\n",
       "    .dataframe tbody tr th {\n",
       "        vertical-align: top;\n",
       "    }\n",
       "\n",
       "    .dataframe thead th {\n",
       "        text-align: right;\n",
       "    }\n",
       "</style>\n",
       "<table border=\"1\" class=\"dataframe\">\n",
       "  <thead>\n",
       "    <tr style=\"text-align: right;\">\n",
       "      <th></th>\n",
       "      <th>Parameter</th>\n",
       "      <th>Unit</th>\n",
       "      <th>Description</th>\n",
       "    </tr>\n",
       "  </thead>\n",
       "  <tbody>\n",
       "    <tr>\n",
       "      <th>0</th>\n",
       "      <td>i</td>\n",
       "      <td>-</td>\n",
       "      <td>Number of rows</td>\n",
       "    </tr>\n",
       "    <tr>\n",
       "      <th>1</th>\n",
       "      <td>z</td>\n",
       "      <td>-</td>\n",
       "      <td>Number of elements in a row</td>\n",
       "    </tr>\n",
       "    <tr>\n",
       "      <th>2</th>\n",
       "      <td>dw</td>\n",
       "      <td>mm</td>\n",
       "      <td>Individual brg diameter</td>\n",
       "    </tr>\n",
       "    <tr>\n",
       "      <th>3</th>\n",
       "      <td>alpha</td>\n",
       "      <td>degrees</td>\n",
       "      <td>Contact angle</td>\n",
       "    </tr>\n",
       "    <tr>\n",
       "      <th>4</th>\n",
       "      <td>dp</td>\n",
       "      <td>mm</td>\n",
       "      <td>Pitch diameter</td>\n",
       "    </tr>\n",
       "    <tr>\n",
       "      <th>5</th>\n",
       "      <td>Pu</td>\n",
       "      <td>N</td>\n",
       "      <td>Fatigue limit</td>\n",
       "    </tr>\n",
       "    <tr>\n",
       "      <th>6</th>\n",
       "      <td>kind</td>\n",
       "      <td>-</td>\n",
       "      <td>Type</td>\n",
       "    </tr>\n",
       "  </tbody>\n",
       "</table>\n",
       "</div>"
      ],
      "text/plain": [
       "  Parameter     Unit                  Description\n",
       "0         i        -               Number of rows\n",
       "1         z        -  Number of elements in a row\n",
       "2        dw       mm      Individual brg diameter\n",
       "3     alpha  degrees                Contact angle\n",
       "4        dp       mm               Pitch diameter\n",
       "5        Pu        N                Fatigue limit\n",
       "6      kind        -                         Type"
      ]
     },
     "execution_count": 40,
     "metadata": {},
     "output_type": "execute_result"
    }
   ],
   "source": [
    "brg_design_parameter_desc "
   ]
  },
  {
   "cell_type": "markdown",
   "metadata": {},
   "source": [
    "#### Bearing designs"
   ]
  },
  {
   "cell_type": "code",
   "execution_count": 80,
   "metadata": {},
   "outputs": [],
   "source": [
    "skf_8110 = cf.brg_design(i=1,z=31,dw=77.5,alpha=60,D=1465,d=1270,pu=800000,kind='roller',ca_manuf=5280000)   # create sk8110 bearing object\n",
    "# skf_ll68 = cf.brg_design(i=1,z=31,dw=77.5,alpha=60,D=1465,d=1270,pu=800000,kind='roller',ca_manuf=5280000)   # create sk8110 bearing object\n",
    "# skf_bt2b = cf.brg_design(i=1,z=31,dw=77.5,alpha=60,D=1465,d=1270,pu=800000,kind='roller',ca_manuf=5280000)   # create sk8110 bearing object\n",
    "brgs = skf_8110 #,skf_ll68,skf_bt2b"
   ]
  },
  {
   "cell_type": "markdown",
   "metadata": {},
   "source": [
    "##### Combine ebb and flood load cases with duty cycles (time spent at each load case)"
   ]
  },
  {
   "cell_type": "code",
   "execution_count": 81,
   "metadata": {},
   "outputs": [],
   "source": [
    "fld_load_cases = cf.load_case_comb(file_location_fld,cols,brg_p=brgs.p,brg_dp=brgs.dp()) # flood load cases for each brg\n",
    "ebb_load_cases = cf.load_case_comb(file_location_ebb,cols,brg_p=brgs.p,brg_dp=brgs.dp()) # ebb load cases for each brg\n",
    "duty_cycles = [0.1224,0.1672,0.1672,0.1582,0.1582,0.1194,0.0806,0.0179,0.009,0.2189,0.2139,0.1244,0.1592,0.1194,0.0796,0.0299,0.0547]\n",
    "t_profiles = cf.tidal_profile_comb(duty_cycles,[fld_load_cases.lc_df(),ebb_load_cases.lc_df()],brgs.p,brgs.ca_manuf,brgs.z)"
   ]
  },
  {
   "cell_type": "markdown",
   "metadata": {},
   "source": [
    "##### Calculate bearing fatigue life"
   ]
  },
  {
   "cell_type": "code",
   "execution_count": 82,
   "metadata": {},
   "outputs": [],
   "source": [
    "lifes = cf.life_calcs(t_profiles.Ca_osc(),t_profiles.dyn_equiv_osc(),'roller',brgs.dp(),'high cleanliness',brgs.pu,rel_level=90,use_ISO_correction='Yes')\n",
    "l10_osc = lifes.L10_mill_osc()\n",
    "l10_hr = lifes.L10_hrs(t_profiles.N_opm_ave())"
   ]
  },
  {
   "cell_type": "code",
   "execution_count": 83,
   "metadata": {},
   "outputs": [
    {
     "data": {
      "text/plain": [
       "0    1.621806e+06\n",
       "Name: a1, dtype: float64"
      ]
     },
     "execution_count": 83,
     "metadata": {},
     "output_type": "execute_result"
    }
   ],
   "source": [
    "l10_hr"
   ]
  },
  {
   "cell_type": "markdown",
   "metadata": {},
   "source": [
    "##### Force and ps movement distributions"
   ]
  },
  {
   "cell_type": "code",
   "execution_count": 65,
   "metadata": {},
   "outputs": [],
   "source": [
    "#plt.hist(fld_load_cases.load_data()[0]['My'],bins=9)"
   ]
  },
  {
   "cell_type": "code",
   "execution_count": null,
   "metadata": {},
   "outputs": [],
   "source": []
  },
  {
   "cell_type": "markdown",
   "metadata": {},
   "source": [
    "#### Sensitivity analysis (bearing design)"
   ]
  },
  {
   "cell_type": "code",
   "execution_count": 89,
   "metadata": {},
   "outputs": [],
   "source": [
    "def L10_calc(i,z,dw,alpha,D,d,pu,kind,ca_manuf):\n",
    "    # calculate L10 values (for sensitivity analysis)\n",
    "    brg = cf.brg_design(i,z,dw,alpha,D,d,pu,kind,ca_manuf)\n",
    "    flc = cf.load_case_comb(file_location_fld,cols,brg_p=brg.p,brg_dp=brg.dp()) # flood load cases for each brg\n",
    "    elc = cf.load_case_comb(file_location_ebb,cols,brg_p=brg.p,brg_dp=brg.dp()) # ebb load cases for each brg\n",
    "    duty_cycles = [0.1224,0.1672,0.1672,0.1582,0.1582,0.1194,0.0806,0.0179,0.009,0.2189,0.2139,0.1244,0.1592,0.1194,0.0796,0.0299,0.0547]\n",
    "    t_profiles = cf.tidal_profile_comb(duty_cycles,[flc.lc_df(),elc.lc_df()],brg.p,brg.ca_manuf,brg.z)\n",
    "    lifes = cf.life_calcs(t_profiles.Ca_osc(),t_profiles.dyn_equiv_osc(),'roller',brg.dp(),'high cleanliness',brg.pu,rel_level=90,use_ISO_correction='Yes')\n",
    "    l10_osc = lifes.L10_mill_osc()\n",
    "    l10_hr = lifes.L10_hrs(t_profiles.N_opm_ave())\n",
    "    return l10_osc,l10_hr"
   ]
  },
  {
   "cell_type": "code",
   "execution_count": 93,
   "metadata": {},
   "outputs": [
    {
     "data": {
      "image/png": "[encoded data removed]",
      "text/plain": [
       "<Figure size 432x288 with 1 Axes>"
      ]
     },
     "metadata": {},
     "output_type": "display_data"
    }
   ],
   "source": [
    "ca_s = np.linspace(1000000,10000000,10)\n",
    "L10_ca = [L10_calc(i=1,z=31,dw=77.5,alpha=60,D=1465,d=1270,pu=800000,kind='roller',ca_manuf=ca_s[i])[1] for i in range(len(ca_s))]\n",
    "fig,ax = plt.subplots()\n",
    "_=ax.plot(ca_s,L10_ca)"
   ]
  },
  {
   "cell_type": "code",
   "execution_count": 105,
   "metadata": {},
   "outputs": [
    {
     "data": {
      "image/png": "[encoded data removed]",
      "text/plain": [
       "<Figure size 432x288 with 1 Axes>"
      ]
     },
     "metadata": {},
     "output_type": "display_data"
    }
   ],
   "source": [
    "ca_pe_ratio = np.linspace(1,10,10)\n",
    "a_iso_ = np.linspace(0.05,0.2,10)\n",
    "a_1_ = np.linspace(1,1,10)\n",
    "p_ = np.linspace(3,3.3,10)\n",
    "l10_ = a_1_*a_iso_*(ca_pe_ratio)**p_\n",
    "fig,ax = plt.subplots()\n",
    "_=ax.plot(ca_pe_ratio,L10_ca)\n",
    "_=ax.plot(p_,L10_ca)"
   ]
  },
  {
   "cell_type": "markdown",
   "metadata": {},
   "source": [
    "---"
   ]
  },
  {
   "cell_type": "markdown",
   "metadata": {},
   "source": [
    "#### Reliability Plots"
   ]
  },
  {
   "cell_type": "code",
   "execution_count": null,
   "metadata": {},
   "outputs": [],
   "source": [
    "### assuming Beta param of 1.5, Eta is calculated using Weibull CDF and L10 number"
   ]
  },
  {
   "cell_type": "code",
   "execution_count": 107,
   "metadata": {},
   "outputs": [],
   "source": [
    "from scipy import optimize"
   ]
  },
  {
   "cell_type": "code",
   "execution_count": 124,
   "metadata": {},
   "outputs": [],
   "source": [
    "def unreliability(eta):\n",
    "    # function to solve\n",
    "    return 0.9-(np.exp((-48000/eta)**1.5))"
   ]
  },
  {
   "cell_type": "code",
   "execution_count": 129,
   "metadata": {},
   "outputs": [],
   "source": [
    "def reliability(time,beta,eta):\n",
    "    # calculate reliability func based on provided beta,eta\n",
    "    return np.exp(-(time/eta)**beta)"
   ]
  },
  {
   "cell_type": "code",
   "execution_count": 143,
   "metadata": {},
   "outputs": [
    {
     "data": {
      "image/png": "[encoded data removed]",
      "text/plain": [
       "<Figure size 432x288 with 1 Axes>"
      ]
     },
     "metadata": {},
     "output_type": "display_data"
    }
   ],
   "source": [
    "wbl_params_df = pd.DataFrame({'Beta':[1.1,1.2,1.3,1.4,1.5],'Eta':[376320,317335,274707,242756,218088]})\n",
    "time = np.linspace(1,500000,1000)\n",
    "beta = 1.5\n",
    "eta = 218088\n",
    "fig,ax=plt.subplots()\n",
    "labels = 'β=1.1, η=376,320','β=1.2, η=317,335','β=1.3, η=274,707','β=1.4, η=242,756','β=1.5, η=218,088'\n",
    "for i in range(len(wbl_params_df)):\n",
    "    ax.plot(time,reliability(time,wbl_params_df.iloc[i,0],wbl_params_df.iloc[i,1]),label=labels[i])\n",
    "_=ax.set(xlabel='Time (hrs)',ylabel='R(t)')\n",
    "_=plt.grid()\n",
    "_=plt.legend()\n",
    "#_=plt.savefig(fname='pof_rel_func')"
   ]
  },
  {
   "cell_type": "code",
   "execution_count": null,
   "metadata": {},
   "outputs": [],
   "source": []
  },
  {
   "cell_type": "code",
   "execution_count": null,
   "metadata": {},
   "outputs": [],
   "source": []
  },
  {
   "cell_type": "code",
   "execution_count": null,
   "metadata": {},
   "outputs": [],
   "source": []
  },
  {
   "cell_type": "markdown",
   "metadata": {},
   "source": [
    "#### Distribution of Bearing Flapwise moment"
   ]
  },
  {
   "cell_type": "code",
   "execution_count": null,
   "metadata": {},
   "outputs": [],
   "source": [
    "def log_norm_fit(data):\n",
    "    # fit lognormal dist\n",
    "    shape,loc,scale = ss.lognorm.fit(data/1000000)\n",
    "    rvs = ss.lognorm.rvs(s=shape,loc=loc,scale=scale,size=len(data))\n",
    "    pdf = ss.lognorm.pdf(np.sort(rvs),s=shape,loc=loc,scale=scale)\n",
    "    return {'pdf':pdf,'rvs':np.sort(rvs)}"
   ]
  },
  {
   "cell_type": "code",
   "execution_count": null,
   "metadata": {},
   "outputs": [],
   "source": [
    "My_fld_data = [fld_load_cases.load_data()[i]['My'] for i in range(len(fld_load_cases.load_data()))]\n",
    "My_ebb_data = [ebb_load_cases.load_data()[i]['My'] for i in range(len(ebb_load_cases.load_data()))]\n",
    "Myf_pdf = log_norm_fit(pd.concat(My_fld_data))\n",
    "Mye_pdf = log_norm_fit(pd.concat(My_ebb_data))"
   ]
  },
  {
   "cell_type": "code",
   "execution_count": null,
   "metadata": {},
   "outputs": [],
   "source": [
    "fig,ax = plt.subplots()\n",
    "_=ax.plot(Myf_pdf['rvs'],Myf_pdf['pdf'],label='Flood Tide')\n",
    "_=ax.plot(Mye_pdf['rvs'],Mye_pdf['pdf'],label='Ebb Tide')\n",
    "_=plt.legend()\n",
    "_=ax.set(xlabel='My MN',ylabel='PDF')"
   ]
  },
  {
   "cell_type": "code",
   "execution_count": null,
   "metadata": {},
   "outputs": [],
   "source": [
    "fld_lc.lc_df(brg.dp)['Speed opm'].mean(),ebb_lc.lc_df(brg.dp)['Speed opm'].mean()"
   ]
  }
 ],
 "metadata": {
  "kernelspec": {
   "display_name": "Python 3",
   "language": "python",
   "name": "python3"
  },
  "language_info": {
   "codemirror_mode": {
    "name": "ipython",
    "version": 3
   },
   "file_extension": ".py",
   "mimetype": "text/x-python",
   "name": "python",
   "nbconvert_exporter": "python",
   "pygments_lexer": "ipython3",
   "version": "3.6.5"
  }
 },
 "nbformat": 4,
 "nbformat_minor": 2
}
