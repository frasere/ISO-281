{
 "cells": [
  {
   "cell_type": "markdown",
   "metadata": {},
   "source": [
    "### ISO 281 Bearing Life Calculation\n",
    "___"
   ]
  },
  {
   "cell_type": "markdown",
   "metadata": {},
   "source": [
    "Calculate L10 life (rolling contact fatigue) using ISO 281 method"
   ]
  },
  {
   "cell_type": "markdown",
   "metadata": {},
   "source": [
    "#### Standard Libraries"
   ]
  },
  {
   "cell_type": "code",
   "execution_count": 1,
   "metadata": {},
   "outputs": [],
   "source": [
    "import numpy as np\n",
    "import pandas as pd\n",
    "import matplotlib.pyplot as plt\n",
    "import math\n",
    "import glob\n",
    "import os\n",
    "import scipy.stats as ss\n",
    "pd.options.mode.chained_assignment = None   # off with setwithcopy warning"
   ]
  },
  {
   "cell_type": "markdown",
   "metadata": {},
   "source": [
    "#### Classes module"
   ]
  },
  {
   "cell_type": "code",
   "execution_count": 2,
   "metadata": {},
   "outputs": [],
   "source": [
    "import classes_funcs as cf"
   ]
  },
  {
   "cell_type": "markdown",
   "metadata": {},
   "source": [
    "___"
   ]
  },
  {
   "cell_type": "markdown",
   "metadata": {},
   "source": [
    "#### Program Run"
   ]
  },
  {
   "cell_type": "markdown",
   "metadata": {},
   "source": [
    "##### Choose file locations for loading data and column headers"
   ]
  },
  {
   "cell_type": "code",
   "execution_count": 6,
   "metadata": {},
   "outputs": [],
   "source": [
    "file_location_fld = r'C:\\Users\\FREWIN\\OneDrive - DNV GL\\Atlantis\\Runs\\PHM LC\\TB data\\Floods' \n",
    "file_location_ebb = r'C:\\Users\\FREWIN\\OneDrive - DNV GL\\Atlantis\\Runs\\PHM LC\\TB data\\Ebbs' \n",
    "cols = 'Time','PS deg','Fxy','Fz','My'"
   ]
  },
  {
   "cell_type": "markdown",
   "metadata": {},
   "source": [
    "##### Choose bearing design parameters"
   ]
  },
  {
   "cell_type": "code",
   "execution_count": 7,
   "metadata": {},
   "outputs": [],
   "source": [
    "brg_i=1\n",
    "brg_z=31\n",
    "brg_dw=77.5\n",
    "brg_alpha=45\n",
    "brg_dp=839\n",
    "brg_pu=800000\n",
    "brg_kind='roller'\n",
    "skf_8110 = cf.brg_design(brg_i,brg_z,brg_dw,brg_alpha,brg_dp,brg_pu,brg_kind,ca_manuf=5390000)\n",
    "brg = skf_8110 "
   ]
  },
  {
   "cell_type": "markdown",
   "metadata": {},
   "source": [
    "##### Combine flood load cases"
   ]
  },
  {
   "cell_type": "code",
   "execution_count": null,
   "metadata": {},
   "outputs": [],
   "source": [
    "fld_lc = cf.load_case_comb(file_location_fld,cols,brg_p=brg.p)  # load case object (may have several of these)"
   ]
  },
  {
   "cell_type": "markdown",
   "metadata": {},
   "source": [
    "##### Combine ebb load cases"
   ]
  },
  {
   "cell_type": "code",
   "execution_count": null,
   "metadata": {},
   "outputs": [],
   "source": [
    "ebb_lc = cf.load_case_comb(file_location_ebb,cols,brg_p=brg.p)  # load case object (may have several of these)"
   ]
  },
  {
   "cell_type": "markdown",
   "metadata": {},
   "source": [
    "##### Combine ebb and flood load cases with duty cycles (time spent at each load case)"
   ]
  },
  {
   "cell_type": "code",
   "execution_count": null,
   "metadata": {},
   "outputs": [],
   "source": [
    "duty_cycles = [0.062,0.062,0.038,0.038,0.062,0.068,0.057,0.078,0.054,0.046,\n",
    "              0.072,0.068,0.032,0.065,0.046,0.035,0.068,0.027,0.016,0.011]\n",
    "t_profiles = cf.tidal_profile_comb(duty_cycles,[fld_lc.lc_df(brg.dp),ebb_lc.lc_df(brg.dp)],brg.p,brg.ca_manuf,brg.z)"
   ]
  },
  {
   "cell_type": "markdown",
   "metadata": {},
   "source": [
    "##### Calculate bearing life"
   ]
  },
  {
   "cell_type": "code",
   "execution_count": 10,
   "metadata": {},
   "outputs": [],
   "source": [
    "life = cf.life_calcs(t_profiles.Ca_osc(),t_profiles.dyn_equiv_osc(),'roller',brg.dp,'high cleanliness',brg.pu,90)"
   ]
  },
  {
   "cell_type": "code",
   "execution_count": 15,
   "metadata": {},
   "outputs": [
    {
     "data": {
      "text/html": [
       "<div>\n",
       "<style scoped>\n",
       "    .dataframe tbody tr th:only-of-type {\n",
       "        vertical-align: middle;\n",
       "    }\n",
       "\n",
       "    .dataframe tbody tr th {\n",
       "        vertical-align: top;\n",
       "    }\n",
       "\n",
       "    .dataframe thead th {\n",
       "        text-align: right;\n",
       "    }\n",
       "</style>\n",
       "<table border=\"1\" class=\"dataframe\">\n",
       "  <thead>\n",
       "    <tr style=\"text-align: right;\">\n",
       "      <th></th>\n",
       "      <th>L10 hrs</th>\n",
       "      <th>L10 oscillations</th>\n",
       "    </tr>\n",
       "  </thead>\n",
       "  <tbody>\n",
       "    <tr>\n",
       "      <th>Data</th>\n",
       "      <td>68577.816682</td>\n",
       "      <td>8.693838e+06</td>\n",
       "    </tr>\n",
       "  </tbody>\n",
       "</table>\n",
       "</div>"
      ],
      "text/plain": [
       "           L10 hrs  L10 oscillations\n",
       "Data  68577.816682      8.693838e+06"
      ]
     },
     "execution_count": 15,
     "metadata": {},
     "output_type": "execute_result"
    }
   ],
   "source": [
    "l10_hr = life.L10_hrs(t_profiles.N_opm_ave())\n",
    "l10_osc = life.L10_mill_osc()\n",
    "pd.DataFrame({'L10 hrs':l10_hr,'L10 oscillations':l10_osc*100000},index=['Data'])"
   ]
  },
  {
   "cell_type": "markdown",
   "metadata": {},
   "source": [
    "---"
   ]
  },
  {
   "cell_type": "markdown",
   "metadata": {},
   "source": [
    "#### Reliability Plots"
   ]
  },
  {
   "cell_type": "code",
   "execution_count": 9,
   "metadata": {},
   "outputs": [],
   "source": [
    "### assuming Beta param of 1.5, Eta is calculated using probability paper (Weibull probability plot)"
   ]
  },
  {
   "cell_type": "code",
   "execution_count": 57,
   "metadata": {},
   "outputs": [
    {
     "data": {
      "image/png": "[encoded data removed]",
      "text/plain": [
       "<Figure size 432x288 with 1 Axes>"
      ]
     },
     "metadata": {},
     "output_type": "display_data"
    }
   ],
   "source": [
    "beta = np.linspace(1,2,11)\n",
    "eta = [650880,530461,447315,387226,342189,307416,279901,257676,239406,224160,201271]\n",
    "plt.plot(eta,beta)\n",
    "plt.plot([200000,307000],[1.5,1.5],ls='--',c='r')\n",
    "plt.plot([307000,307000],[1.5,1],ls='--',c='r')\n",
    "plt.xlabel('η hrs')\n",
    "plt.ylabel('β')\n",
    "plt.xlim([200000,655000])\n",
    "plt.ylim([1,2])\n",
    "plt.grid()"
   ]
  },
  {
   "cell_type": "code",
   "execution_count": 74,
   "metadata": {},
   "outputs": [
    {
     "data": {
      "image/png": "[encoded data removed]",
      "text/plain": [
       "<Figure size 432x288 with 1 Axes>"
      ]
     },
     "metadata": {},
     "output_type": "display_data"
    }
   ],
   "source": [
    "rvs = ss.weibull_min.rvs(c=1.5,loc=0,scale=307416,size=1000)\n",
    "c,loc,scale = ss.weibull_min.fit(rvs,loc=0)\n",
    "sf = ss.weibull_min.sf(rvs,c,loc,scale)\n",
    "fig,ax = plt.subplots()\n",
    "ax.scatter(rvs,sf,s=0.1)\n",
    "ax.set(xlabel='Time (hrs)',ylabel='Reliability R(t)',xlim=[0,900000],ylim=[0,1])\n",
    "ax.plot([0,68577],[0.9,0.9],ls='--',c='k')\n",
    "ax.plot([68577,68577],[0.9,0],ls='--',c='k')\n",
    "ax.plot([0,307416],[0.368,0.368],ls='--',c='r')\n",
    "ax.plot([307416,307416],[0.368,0],ls='--',c='r')\n",
    "plt.grid()\n",
    "_=plt.xticks(rotation=15)"
   ]
  },
  {
   "cell_type": "markdown",
   "metadata": {},
   "source": [
    "#### Distribution of Bearing Flapwise moment"
   ]
  },
  {
   "cell_type": "code",
   "execution_count": 18,
   "metadata": {},
   "outputs": [],
   "source": [
    "def log_norm_fit(data):\n",
    "    # fit lognormal dist\n",
    "    shape,loc,scale = ss.lognorm.fit(data/1000000)\n",
    "    rvs = ss.lognorm.rvs(s=shape,loc=loc,scale=scale,size=len(data))\n",
    "    pdf = ss.lognorm.pdf(np.sort(rvs),s=shape,loc=loc,scale=scale)\n",
    "    return {'pdf':pdf,'rvs':np.sort(rvs)}"
   ]
  },
  {
   "cell_type": "code",
   "execution_count": 19,
   "metadata": {},
   "outputs": [],
   "source": [
    "My_fld_data = [fld_lc.load_TB_data()[i]['My'] for i in range(len(fld_lc.load_TB_data()))]\n",
    "My_ebb_data = [ebb_lc.load_TB_data()[i]['My'] for i in range(len(ebb_lc.load_TB_data()))]\n",
    "Myf_pdf = log_norm_fit(pd.concat(My_fld_data))\n",
    "Mye_pdf = log_norm_fit(pd.concat(My_ebb_data))"
   ]
  },
  {
   "cell_type": "code",
   "execution_count": 20,
   "metadata": {},
   "outputs": [
    {
     "data": {
      "image/png": "[encoded data removed]",
      "text/plain": [
       "<Figure size 432x288 with 1 Axes>"
      ]
     },
     "metadata": {},
     "output_type": "display_data"
    }
   ],
   "source": [
    "fig,ax = plt.subplots()\n",
    "_=ax.plot(Myf_pdf['rvs'],Myf_pdf['pdf'],label='Flood Tide')\n",
    "_=ax.plot(Mye_pdf['rvs'],Mye_pdf['pdf'],label='Ebb Tide')\n",
    "_=plt.legend()\n",
    "_=ax.set(xlabel='My MN',ylabel='PDF')"
   ]
  },
  {
   "cell_type": "code",
   "execution_count": 21,
   "metadata": {},
   "outputs": [
    {
     "data": {
      "text/plain": [
       "(24.823368504201685, 16.533859542857144)"
      ]
     },
     "execution_count": 21,
     "metadata": {},
     "output_type": "execute_result"
    }
   ],
   "source": [
    "fld_lc.lc_df(brg.dp)['Speed opm'].mean(),ebb_lc.lc_df(brg.dp)['Speed opm'].mean()"
   ]
  }
 ],
 "metadata": {
  "kernelspec": {
   "display_name": "Python 3",
   "language": "python",
   "name": "python3"
  },
  "language_info": {
   "codemirror_mode": {
    "name": "ipython",
    "version": 3
   },
   "file_extension": ".py",
   "mimetype": "text/x-python",
   "name": "python",
   "nbconvert_exporter": "python",
   "pygments_lexer": "ipython3",
   "version": "3.6.5"
  }
 },
 "nbformat": 4,
 "nbformat_minor": 2
}
