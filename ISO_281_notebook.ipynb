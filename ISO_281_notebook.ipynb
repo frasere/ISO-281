{
 "cells": [
  {
   "cell_type": "markdown",
   "metadata": {},
   "source": [
    "### ISO 281\n",
    "___"
   ]
  },
  {
   "cell_type": "markdown",
   "metadata": {},
   "source": [
    "Calculate L10 life (rolling contact fatigue) using ISO 281 method"
   ]
  },
  {
   "cell_type": "code",
   "execution_count": 1,
   "metadata": {},
   "outputs": [],
   "source": [
    "import numpy as np\n",
    "import pandas as pd\n",
    "import matplotlib.pyplot as plt\n",
    "import math\n",
    "import glob\n",
    "import os\n",
    "from post_process import import_TB_runs\n",
    "import scipy.stats as ss\n",
    "pd.options.mode.chained_assignment = None   # off with setwithcopy warning"
   ]
  },
  {
   "cell_type": "markdown",
   "metadata": {},
   "source": [
    "#### Classes"
   ]
  },
  {
   "cell_type": "code",
   "execution_count": 2,
   "metadata": {},
   "outputs": [],
   "source": [
    "class brg_design():\n",
    "    # dimensions, dynamic axial rating\n",
    "    def __init__(self,i,z,dw,alpha,dp,pu,kind,ca_manuf=None):\n",
    "        # attributes of a bearing       \n",
    "        self.i = i # no. of rows\n",
    "        self.z = z # no. of brgs in a row\n",
    "        self.dw = dw # diameter of indiv. brg  mm\n",
    "        self.alpha = alpha # contact angle in degrees\n",
    "        self.dp = dp # pitch diameter m\n",
    "        self.pu = pu    # fatigue limit load (from manufacturers catalogue)  in N\n",
    "        self.kind = kind\n",
    "        if self.kind == 'ball':\n",
    "            self.p = 3\n",
    "        else:\n",
    "            self.p = 3.3\n",
    "        self.ca_manuf = ca_manuf # axial load rating (from manuf. catalogue else can calculate)  N\n",
    "    \n",
    "    def Ca_rot(self,fc):\n",
    "        # brg dynamic axial load rating rotational\n",
    "        if self.kind == 'ball':\n",
    "            ca = (3.647*(self.i*fc*np.cos(np.deg2rad(self.alpha))**0.7)*(self.z**(2/3))*(self.dw**1.4)*np.tan(np.deg2rad(self.alpha)))\n",
    "        else:\n",
    "            ca = ((self.i*fc*np.cos(np.deg2rad(self.alpha))**0.7)*(self.z**(2/3))*(self.dw**1.4)*np.tan(np.deg2rad(self.alpha)))\n",
    "        return ca\n"
   ]
  },
  {
   "cell_type": "code",
   "execution_count": 3,
   "metadata": {},
   "outputs": [],
   "source": [
    "class load_case_comb():\n",
    "    # combine TB load cases for each tidal profile and calculate theta, N, P\n",
    "    \n",
    "    def __init__(self,file_location,col_headers,brg_p):\n",
    "        self.file_location = file_location\n",
    "        self.col_headers = col_headers\n",
    "        self.brg_p = brg_p\n",
    "        \n",
    "    def load_TB_data(self):\n",
    "        # load raw load case data from TB\n",
    "        sim_data = [import_TB_runs(os.listdir(self.file_location)[i],self.file_location,self.col_headers) for i in range(len(os.listdir(self.file_location)))]\n",
    "        return sim_data\n",
    "    \n",
    "    def lc_df(self,brg_dp):\n",
    "        # units are kN and m\n",
    "        TB_data = self.load_TB_data()\n",
    "        Fr = [np.sqrt((np.sum((np.absolute(TB_data[i]['Fxy'])**2))/np.size(TB_data[i]['Fxy']))) for i in range(len(TB_data))]\n",
    "        Fa = [np.sqrt((np.sum((np.absolute(TB_data[i]['Fz'])**2))/np.size(TB_data[i]['Fz'])))for i in range(len(TB_data))]\n",
    "        My = [np.sqrt((np.sum((np.absolute(TB_data[i]['My'])**2))/np.size(TB_data[i]['My'])))for i in range(len(TB_data))]\n",
    "        P_eak = [(0.75*Fr[i])+(Fa[i])+(2*My[i]/(brg_dp/1000)) for i in range(len(TB_data))]\n",
    "        osc_amp = [abs(TB_data[i]['PS deg'].diff()).mean() for i in range(len(TB_data))]\n",
    "        osc_opm = [(abs(TB_data[i]['PS deg'].diff()).sum()/(len(TB_data[i]['PS deg'])/60)) for i in range(len(TB_data))]\n",
    "        df = pd.DataFrame({'Osc_amp deg':osc_amp,'Speed opm':osc_opm,'Fr rms':Fr,'Fa rms':Fa,'My rms': My,'Dyn Equiv Load':P_eak})\n",
    "        return df"
   ]
  },
  {
   "cell_type": "code",
   "execution_count": 4,
   "metadata": {},
   "outputs": [],
   "source": [
    "class tidal_profile_comb():\n",
    "    # combine equivalent loads from each load case and calc P_osc, theta_equiv and N_ave\n",
    "\n",
    "    def __init__(self,duty_cycles,load_cases,brg_p,Ca,z):\n",
    "        self.duty_cycles = duty_cycles   # list of time fractions\n",
    "        self.load_cases = load_cases   # list of dataframes\n",
    "        self.brg_p = brg_p\n",
    "        self.Ca = Ca\n",
    "        self.z = z\n",
    "\n",
    "    def tp_comb(self):\n",
    "        # combine load case dataframes and calculate dyn_equiv_osc\n",
    "        df = pd.concat(self.load_cases,ignore_index=True)\n",
    "        df['Duty Cycle'] = self.duty_cycles\n",
    "        return df\n",
    "    \n",
    "    def dyn_equiv_osc(self):\n",
    "        df = self.tp_comb()\n",
    "        numerator = np.sum((df['Dyn Equiv Load']**self.brg_p)*df['Speed opm']*df['Duty Cycle']*df['Osc_amp deg'])\n",
    "        denominator = np.sum(df['Speed opm']*df['Duty Cycle']*df['Osc_amp deg'])\n",
    "        return (numerator/denominator)**(1/self.brg_p)\n",
    "\n",
    "    def N_opm_ave(self):\n",
    "        # N_ave\n",
    "        n_ave = np.sum(self.tp_comb()['Speed opm']*self.tp_comb()['Duty Cycle'])\n",
    "        return n_ave\n",
    "\n",
    "    def theta_equiv(self):\n",
    "        # theta equivalent       \n",
    "        numerator = np.sum(self.tp_comb()['Speed opm']*self.tp_comb()['Duty Cycle']*self.tp_comb()['Osc_amp deg'])\n",
    "        denominator = np.sum(self.tp_comb()['Speed opm']*self.tp_comb()['Duty Cycle'])\n",
    "        return (numerator/denominator) \n",
    "\n",
    "    def Ca_osc(self):\n",
    "        # brg dynamic axial load rating oscillatory\n",
    "        if self.brg_p == 3.3:\n",
    "            ca_osc = self.Ca*((180/self.theta_equiv())**(2/9))*(self.z**0.028)\n",
    "        else:\n",
    "            ca_osc = self.Ca*((180/self.theta_equiv())**(3/10))*(self.z**0.033)\n",
    "        return ca_osc\n"
   ]
  },
  {
   "cell_type": "code",
   "execution_count": 5,
   "metadata": {},
   "outputs": [],
   "source": [
    "class life_calcs():\n",
    "    # l10 life by ISO 281 method\n",
    "    def __init__(self,brg_ca_osc,Pea_osc,kind,dp,lub_contam_level,pu,rel_level,k=0.076):\n",
    "        self.brg_ca_osc = brg_ca_osc   # brg osc axial load rating\n",
    "        self.Pea_osc = Pea_osc  # oscillatory dynamic equivalent load\n",
    "        self.kind = kind   # brg type\n",
    "        self.dp = dp    # pitch diameter of brg mm\n",
    "        self.lub_contam_level = lub_contam_level  # level of contamination in brg grease lubricant (see Table 7 NREL DG03)\n",
    "        self.k = k   # measure of adequacy of lubrication (for yaw, pitch brgs assumed to be 0.076 see NREL DG03)\n",
    "        if self.kind == 'ball':\n",
    "            self.p = 3\n",
    "        else:\n",
    "            self.p = 3.3\n",
    "        self.pu = pu  # bearing fatigue limit (from manufacturers catalogue)\n",
    "        self.rel_level = rel_level\n",
    "        \n",
    "    def eta(self):\n",
    "        # parameter of a_iso calculation\n",
    "        # level of particulate contam in grease lubricant\n",
    "        contam_table = pd.DataFrame({'Contam Level':['high cleanliness','normal cleanliness','typical contamination','severe contamination','very severe contamination'],\n",
    "               'c1':[0.0864,0.0432,0.0177,0.0115,0.00617],'c2':[0.6796,1.141,1.887,2.662,4.06]})\n",
    "        eta = 0.173*contam_table.loc[contam_table['Contam Level']==self.lub_contam_level]['c1'].values*(self.k**0.68)*(self.dp**0.55)*(1-(contam_table.loc[contam_table['Contam Level']==self.lub_contam_level][['c2']].values/(self.dp**(1/3))))\n",
    "        return eta\n",
    "    \n",
    "    def a_iso(self):\n",
    "        # ISO correction factor\n",
    "        if self.kind == 'ball':\n",
    "            params = [2.5671,2.2649,0.053481,0.83,0.333,-9.3]\n",
    "        else:\n",
    "            params = [1.5859,1.3993,0.054381,1,0.4,-9.185]\n",
    "        a_iso = 0.1*(1-((params[0]-(params[1]/(0.076**params[2])))**params[3])*(((self.eta()*self.pu)/self.Pea_osc)**params[4]))**params[5]\n",
    "        return a_iso[0][0]\n",
    "    \n",
    "    def a1(self):\n",
    "        # a1 life modification factor\n",
    "        a1_table = pd.DataFrame({'Reliability %':[90,95,96,97,98,99,99.95],'a1':[1,0.64,0.55,0.47,0.37,0.25,0.077]})\n",
    "        a1 = a1_table.loc[a1_table['Reliability %']==self.rel_level]['a1']\n",
    "        return a1\n",
    "    \n",
    "    def L10_mill_osc(self):\n",
    "        # L10 ISO life equation (millions of oscillations)\n",
    "        l10 = self.a_iso()*self.a1()*(self.brg_ca_osc/self.Pea_osc)**self.p\n",
    "        return l10[0]\n",
    "    \n",
    "    def L10_hrs(self,N_ave):\n",
    "        # L10 ISO life equation (hrs)\n",
    "        l10 = (self.L10_mill_osc()*1000000)/(N_ave*60)\n",
    "        return l10"
   ]
  },
  {
   "cell_type": "markdown",
   "metadata": {},
   "source": [
    "___"
   ]
  },
  {
   "cell_type": "markdown",
   "metadata": {},
   "source": [
    "#### Program Run"
   ]
  },
  {
   "cell_type": "code",
   "execution_count": 6,
   "metadata": {},
   "outputs": [],
   "source": [
    "# Run brg_design - choose brg design parameters\n",
    "# Run load_case_comb  - combine load cases from each tidal profile\n",
    "# Run tidal_profile_comb - combine all tidal profiles with duty cycle info\n",
    "# Run life_calcs - to get lifetime estimation"
   ]
  },
  {
   "cell_type": "code",
   "execution_count": 7,
   "metadata": {},
   "outputs": [],
   "source": [
    "file_location_fld = r'C:\\Users\\FREWIN\\OneDrive - DNV GL\\Atlantis\\Runs\\PHM LC\\TB data\\Floods' \n",
    "file_location_ebb = r'C:\\Users\\FREWIN\\OneDrive - DNV GL\\Atlantis\\Runs\\PHM LC\\TB data\\Ebbs' \n",
    "cols = 'Time','PS deg','Fxy','Fz','My'\n",
    "skf_8110 = brg_design(1,31,77.5,45,839,800000,'roller',ca_manuf=5390000)  # bearing object  i,z,dw,alpha,dp,pu,kind\n",
    "brg = skf_8110  # Hybrid of Atlantis 8110 and skf 8010\n",
    "duty_cycles = [0.062,0.062,0.038,0.038,0.062,0.068,0.057,0.078,0.054,0.046,\n",
    "              0.072,0.068,0.032,0.065,0.046,0.035,0.068,0.027,0.016,0.011]\n",
    "fld_lc = load_case_comb(file_location_fld,cols,brg_p=brg.p)  # load case object (may have several of these)\n",
    "ebb_lc = load_case_comb(file_location_ebb,cols,brg_p=brg.p)  # load case object (may have several of these)\n",
    "t_profiles = tidal_profile_comb(duty_cycles,[fld_lc.lc_df(brg.dp),ebb_lc.lc_df(brg.dp)],brg.p,brg.ca_manuf,brg.z)\n",
    "life = life_calcs(t_profiles.Ca_osc(),t_profiles.dyn_equiv_osc(),'roller',brg.dp,'high cleanliness',brg.pu,90)"
   ]
  },
  {
   "cell_type": "code",
   "execution_count": 8,
   "metadata": {},
   "outputs": [
    {
     "data": {
      "text/plain": [
       "(68577.81668164778, 86.93837916119983)"
      ]
     },
     "execution_count": 8,
     "metadata": {},
     "output_type": "execute_result"
    }
   ],
   "source": [
    "life.L10_hrs(t_profiles.N_opm_ave()),life.L10_mill_osc()"
   ]
  },
  {
   "cell_type": "markdown",
   "metadata": {},
   "source": [
    "#### Reliability Plots"
   ]
  },
  {
   "cell_type": "code",
   "execution_count": 9,
   "metadata": {},
   "outputs": [],
   "source": [
    "### assuming Beta param of 1.5, Eta is calculated using probability paper (Weibull probability plot)"
   ]
  },
  {
   "cell_type": "code",
   "execution_count": 57,
   "metadata": {},
   "outputs": [
    {
     "data": {
      "image/png": "[encoded data removed]",
      "text/plain": [
       "<Figure size 432x288 with 1 Axes>"
      ]
     },
     "metadata": {},
     "output_type": "display_data"
    }
   ],
   "source": [
    "beta = np.linspace(1,2,11)\n",
    "eta = [650880,530461,447315,387226,342189,307416,279901,257676,239406,224160,201271]\n",
    "plt.plot(eta,beta)\n",
    "plt.plot([200000,307000],[1.5,1.5],ls='--',c='r')\n",
    "plt.plot([307000,307000],[1.5,1],ls='--',c='r')\n",
    "plt.xlabel('η hrs')\n",
    "plt.ylabel('β')\n",
    "plt.xlim([200000,655000])\n",
    "plt.ylim([1,2])\n",
    "plt.grid()"
   ]
  },
  {
   "cell_type": "code",
   "execution_count": 74,
   "metadata": {},
   "outputs": [
    {
     "data": {
      "image/png": "[encoded data removed]",
      "text/plain": [
       "<Figure size 432x288 with 1 Axes>"
      ]
     },
     "metadata": {},
     "output_type": "display_data"
    }
   ],
   "source": [
    "rvs = ss.weibull_min.rvs(c=1.5,loc=0,scale=307416,size=1000)\n",
    "c,loc,scale = ss.weibull_min.fit(rvs,loc=0)\n",
    "sf = ss.weibull_min.sf(rvs,c,loc,scale)\n",
    "fig,ax = plt.subplots()\n",
    "ax.scatter(rvs,sf,s=0.1)\n",
    "ax.set(xlabel='Time (hrs)',ylabel='Reliability R(t)',xlim=[0,900000],ylim=[0,1])\n",
    "ax.plot([0,68577],[0.9,0.9],ls='--',c='k')\n",
    "ax.plot([68577,68577],[0.9,0],ls='--',c='k')\n",
    "ax.plot([0,307416],[0.368,0.368],ls='--',c='r')\n",
    "ax.plot([307416,307416],[0.368,0],ls='--',c='r')\n",
    "plt.grid()\n",
    "_=plt.xticks(rotation=15)"
   ]
  },
  {
   "cell_type": "markdown",
   "metadata": {},
   "source": [
    "#### Calibration of PS Angle"
   ]
  },
  {
   "cell_type": "code",
   "execution_count": 11,
   "metadata": {},
   "outputs": [],
   "source": [
    "# Assuming 1 year of operation with 98% availability"
   ]
  },
  {
   "cell_type": "code",
   "execution_count": 12,
   "metadata": {},
   "outputs": [],
   "source": [
    "raw_ps = pd.read_csv('PitchAngleFiltered.csv',header=None)"
   ]
  },
  {
   "cell_type": "code",
   "execution_count": 13,
   "metadata": {},
   "outputs": [],
   "source": [
    "cols = '?','Date_Time','?','Angle deg'\n",
    "raw_ps.columns = cols\n",
    "ps_data = raw_ps[['Date_Time','Angle deg']]\n",
    "ps_data['Date_Time'] = pd.to_datetime(ps_data['Date_Time'])"
   ]
  },
  {
   "cell_type": "code",
   "execution_count": 14,
   "metadata": {},
   "outputs": [],
   "source": [
    "from functions import rounding\n",
    "ts = rounding(ps_data)"
   ]
  },
  {
   "cell_type": "code",
   "execution_count": 15,
   "metadata": {},
   "outputs": [],
   "source": [
    "ps_ts = ts['2017-03-13 00:00':'2017-03-13 12:00']"
   ]
  },
  {
   "cell_type": "code",
   "execution_count": 16,
   "metadata": {},
   "outputs": [
    {
     "data": {
      "text/plain": [
       "<matplotlib.axes._subplots.AxesSubplot at 0x1ed9bb13d68>"
      ]
     },
     "execution_count": 16,
     "metadata": {},
     "output_type": "execute_result"
    },
    {
     "data": {
      "image/png": "[encoded data removed]",
      "text/plain": [
       "<Figure size 432x288 with 1 Axes>"
      ]
     },
     "metadata": {},
     "output_type": "display_data"
    }
   ],
   "source": [
    "ps_ts.plot(use_index=True)"
   ]
  },
  {
   "cell_type": "markdown",
   "metadata": {},
   "source": [
    "#### TEST ZONE: Distribution of MY"
   ]
  },
  {
   "cell_type": "code",
   "execution_count": 17,
   "metadata": {},
   "outputs": [],
   "source": [
    "# RUL = historical / rated oscillation value"
   ]
  },
  {
   "cell_type": "code",
   "execution_count": 18,
   "metadata": {},
   "outputs": [],
   "source": [
    "def log_norm_fit(data):\n",
    "    # fit lognormal dist\n",
    "    shape,loc,scale = ss.lognorm.fit(data/1000000)\n",
    "    rvs = ss.lognorm.rvs(s=shape,loc=loc,scale=scale,size=len(data))\n",
    "    pdf = ss.lognorm.pdf(np.sort(rvs),s=shape,loc=loc,scale=scale)\n",
    "    return {'pdf':pdf,'rvs':np.sort(rvs)}"
   ]
  },
  {
   "cell_type": "code",
   "execution_count": 19,
   "metadata": {},
   "outputs": [],
   "source": [
    "My_fld_data = [fld_lc.load_TB_data()[i]['My'] for i in range(len(fld_lc.load_TB_data()))]\n",
    "My_ebb_data = [ebb_lc.load_TB_data()[i]['My'] for i in range(len(ebb_lc.load_TB_data()))]\n",
    "Myf_pdf = log_norm_fit(pd.concat(My_fld_data))\n",
    "Mye_pdf = log_norm_fit(pd.concat(My_ebb_data))"
   ]
  },
  {
   "cell_type": "code",
   "execution_count": 20,
   "metadata": {},
   "outputs": [
    {
     "data": {
      "image/png": "[encoded data removed]",
      "text/plain": [
       "<Figure size 432x288 with 1 Axes>"
      ]
     },
     "metadata": {},
     "output_type": "display_data"
    }
   ],
   "source": [
    "fig,ax = plt.subplots()\n",
    "_=ax.plot(Myf_pdf['rvs'],Myf_pdf['pdf'],label='Flood Tide')\n",
    "_=ax.plot(Mye_pdf['rvs'],Mye_pdf['pdf'],label='Ebb Tide')\n",
    "_=plt.legend()\n",
    "_=ax.set(xlabel='My MN',ylabel='PDF')"
   ]
  },
  {
   "cell_type": "code",
   "execution_count": 21,
   "metadata": {},
   "outputs": [
    {
     "data": {
      "text/plain": [
       "(24.823368504201685, 16.533859542857144)"
      ]
     },
     "execution_count": 21,
     "metadata": {},
     "output_type": "execute_result"
    }
   ],
   "source": [
    "fld_lc.lc_df(brg.dp)['Speed opm'].mean(),ebb_lc.lc_df(brg.dp)['Speed opm'].mean()"
   ]
  },
  {
   "cell_type": "code",
   "execution_count": 22,
   "metadata": {},
   "outputs": [
    {
     "data": {
      "text/plain": [
       "<matplotlib.axes._subplots.AxesSubplot at 0x1ed9f3b34a8>"
      ]
     },
     "execution_count": 22,
     "metadata": {},
     "output_type": "execute_result"
    },
    {
     "data": {
      "image/png": "[encoded data removed]",
      "text/plain": [
       "<Figure size 432x288 with 1 Axes>"
      ]
     },
     "metadata": {},
     "output_type": "display_data"
    }
   ],
   "source": [
    "fld_lc.lc_df(brg.dp)['Speed opm'].plot()"
   ]
  },
  {
   "cell_type": "code",
   "execution_count": 23,
   "metadata": {},
   "outputs": [
    {
     "ename": "NameError",
     "evalue": "name 'My_pdf' is not defined",
     "output_type": "error",
     "traceback": [
      "\u001b[1;31m---------------------------------------------------------------------------\u001b[0m",
      "\u001b[1;31mNameError\u001b[0m                                 Traceback (most recent call last)",
      "\u001b[1;32m<ipython-input-23-87148d98bea6>\u001b[0m in \u001b[0;36m<module>\u001b[1;34m()\u001b[0m\n\u001b[1;32m----> 1\u001b[1;33m \u001b[0mplot_data\u001b[0m \u001b[1;33m=\u001b[0m \u001b[0mMy_pdf\u001b[0m\u001b[1;33m\u001b[0m\u001b[0m\n\u001b[0m\u001b[0;32m      2\u001b[0m \u001b[0mlabels\u001b[0m \u001b[1;33m=\u001b[0m \u001b[1;34m'3.06ms'\u001b[0m\u001b[1;33m,\u001b[0m\u001b[1;34m'3.19'\u001b[0m\u001b[1;33m,\u001b[0m\u001b[1;34m'3.32'\u001b[0m\u001b[1;33m,\u001b[0m\u001b[1;34m'3.45'\u001b[0m\u001b[1;33m,\u001b[0m\u001b[1;34m'3.58'\u001b[0m\u001b[1;33m,\u001b[0m\u001b[1;34m'3.71'\u001b[0m\u001b[1;33m,\u001b[0m\u001b[1;34m'3.84'\u001b[0m\u001b[1;33m,\u001b[0m\u001b[1;34m'3.97'\u001b[0m\u001b[1;33m,\u001b[0m\u001b[1;34m'4.1'\u001b[0m\u001b[1;33m,\u001b[0m\u001b[1;34m'4.23'\u001b[0m\u001b[1;33m\u001b[0m\u001b[0m\n\u001b[0;32m      3\u001b[0m \u001b[0mfig\u001b[0m\u001b[1;33m,\u001b[0m\u001b[0max\u001b[0m \u001b[1;33m=\u001b[0m \u001b[0mplt\u001b[0m\u001b[1;33m.\u001b[0m\u001b[0msubplots\u001b[0m\u001b[1;33m(\u001b[0m\u001b[1;33m)\u001b[0m\u001b[1;33m\u001b[0m\u001b[0m\n\u001b[0;32m      4\u001b[0m \u001b[1;32mfor\u001b[0m \u001b[0mi\u001b[0m \u001b[1;32min\u001b[0m \u001b[0mrange\u001b[0m\u001b[1;33m(\u001b[0m\u001b[0mlen\u001b[0m\u001b[1;33m(\u001b[0m\u001b[0mplot_data\u001b[0m\u001b[1;33m)\u001b[0m\u001b[1;33m)\u001b[0m\u001b[1;33m:\u001b[0m\u001b[1;33m\u001b[0m\u001b[0m\n\u001b[0;32m      5\u001b[0m     \u001b[0max\u001b[0m\u001b[1;33m.\u001b[0m\u001b[0mplot\u001b[0m\u001b[1;33m(\u001b[0m\u001b[0mplot_data\u001b[0m\u001b[1;33m[\u001b[0m\u001b[0mi\u001b[0m\u001b[1;33m]\u001b[0m\u001b[1;33m[\u001b[0m\u001b[1;34m'rvs'\u001b[0m\u001b[1;33m]\u001b[0m\u001b[1;33m,\u001b[0m\u001b[0mplot_data\u001b[0m\u001b[1;33m[\u001b[0m\u001b[0mi\u001b[0m\u001b[1;33m]\u001b[0m\u001b[1;33m[\u001b[0m\u001b[1;34m'pdf'\u001b[0m\u001b[1;33m]\u001b[0m\u001b[1;33m,\u001b[0m\u001b[0mlabel\u001b[0m\u001b[1;33m=\u001b[0m\u001b[0mlabels\u001b[0m\u001b[1;33m[\u001b[0m\u001b[0mi\u001b[0m\u001b[1;33m]\u001b[0m\u001b[1;33m)\u001b[0m\u001b[1;33m\u001b[0m\u001b[0m\n",
      "\u001b[1;31mNameError\u001b[0m: name 'My_pdf' is not defined"
     ]
    }
   ],
   "source": [
    "plot_data = My_pdf\n",
    "labels = '3.06ms','3.19','3.32','3.45','3.58','3.71','3.84','3.97','4.1','4.23'\n",
    "fig,ax = plt.subplots()\n",
    "for i in range(len(plot_data)):\n",
    "    ax.plot(plot_data[i]['rvs'],plot_data[i]['pdf'],label=labels[i])\n",
    "    ax.set(xlabel='My MN',ylabel='PDF')\n",
    "    _=plt.legend()"
   ]
  },
  {
   "cell_type": "code",
   "execution_count": null,
   "metadata": {},
   "outputs": [],
   "source": []
  }
 ],
 "metadata": {
  "kernelspec": {
   "display_name": "Python 3",
   "language": "python",
   "name": "python3"
  },
  "language_info": {
   "codemirror_mode": {
    "name": "ipython",
    "version": 3
   },
   "file_extension": ".py",
   "mimetype": "text/x-python",
   "name": "python",
   "nbconvert_exporter": "python",
   "pygments_lexer": "ipython3",
   "version": "3.6.5"
  }
 },
 "nbformat": 4,
 "nbformat_minor": 2
}
